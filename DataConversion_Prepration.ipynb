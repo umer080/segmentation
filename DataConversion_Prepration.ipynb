{
 "cells": [
  {
   "cell_type": "code",
   "execution_count": 7,
   "metadata": {},
   "outputs": [],
   "source": [
    "import os\n",
    "from utils import create_directory, interpolate_image\n",
    "import subprocess\n",
    "import cv2\n",
    "import albumentations as A\n",
    "import numpy as np\n",
    "from config import *"
   ]
  },
  {
   "cell_type": "code",
   "execution_count": 2,
   "metadata": {},
   "outputs": [
    {
     "name": "stdout",
     "output_type": "stream",
     "text": [
      "DATA/train_data already existed\n",
      "DATA/test_data already existed\n",
      "DATA/train_data/images already existed\n",
      "DATA/train_data/masks already existed\n",
      "DATA/test_data/images already existed\n",
      "DATA/test_data/masks already existed\n",
      "DATA/augmented already existed\n",
      "DATA/augmented/images already existed\n",
      "DATA/augmented/masks already existed\n",
      "DATA/compressed already existed\n"
     ]
    }
   ],
   "source": [
    "BASE_DIR = \"DATA\"\n",
    "original_data = f\"{BASE_DIR}/actual_data\"\n",
    "create_directory([BASE_DIR,\"train_data\"])\n",
    "create_directory([BASE_DIR,\"test_data\"])\n",
    "training_images = create_directory([BASE_DIR,\"train_data\",\"images\"])\n",
    "training_masks = create_directory([BASE_DIR,\"train_data\",\"masks\"])\n",
    "create_directory([BASE_DIR,\"test_data\",\"images\"])\n",
    "create_directory([BASE_DIR,\"test_data\",\"masks\"])\n",
    "create_directory([BASE_DIR,\"augmented\"])\n",
    "augmented_images = create_directory([BASE_DIR,\"augmented\",\"images\"])\n",
    "augmented_masks = create_directory([BASE_DIR,\"augmented\",\"masks\"])\n",
    "compressed = create_directory([BASE_DIR,\"compressed\"])"
   ]
  },
  {
   "cell_type": "code",
   "execution_count": 3,
   "metadata": {},
   "outputs": [
    {
     "data": {
      "text/plain": [
       "0"
      ]
     },
     "execution_count": 3,
     "metadata": {},
     "output_type": "execute_result"
    }
   ],
   "source": [
    "subprocess.call(f\"convert {original_data}/training.tif {BASE_DIR}/train_data/images/train-%04d.png\", shell=True)\n",
    "subprocess.call(f\"convert {original_data}/testing.tif {BASE_DIR}/test_data/images/test-%04d.png\", shell=True)\n",
    "subprocess.call(f\"convert {original_data}/training_groundtruth.tif {BASE_DIR}/train_data/masks/train-%04d.png\", shell=True)\n",
    "subprocess.call(f\"convert {original_data}/testing_groundtruth.tif {BASE_DIR}/test_data/masks/test-%04d.png\", shell=True)"
   ]
  },
  {
   "cell_type": "code",
   "execution_count": 4,
   "metadata": {},
   "outputs": [],
   "source": [
    "transform_crop = A.Compose([\n",
    "    A.RandomCrop(width=input_images_size,height=input_images_size,p=1,always_apply=True),\n",
    "    A.HorizontalFlip(p=1,always_apply=True),\n",
    "])\n",
    "transform_rotate90 = A.Compose([\n",
    "    A.RandomRotate90(p=1,always_apply=True)\n",
    "])\n",
    "transform_centercrop = A.Compose([\n",
    "    A.CenterCrop(width=input_images_size,height=input_images_size,p=1,always_apply=True)\n",
    "])\n",
    "transform_noise = A.Compose([\n",
    "    A.RandomBrightnessContrast(p=1,always_apply=True)\n",
    "])\n",
    "transform_all = A.Compose([\n",
    "    A.RandomCrop(width=input_images_size,height=input_images_size,p=1,always_apply=True),\n",
    "    A.HorizontalFlip(p=1,always_apply=True),\n",
    "    A.RandomRotate90(p=1,always_apply=True),\n",
    "    A.RandomBrightnessContrast(p=1,always_apply=True)\n",
    "])"
   ]
  },
  {
   "cell_type": "code",
   "execution_count": 5,
   "metadata": {},
   "outputs": [],
   "source": [
    "for e in os.listdir(training_images):\n",
    "    image = cv2.imread(f\"{training_images}/{e}\",0)\n",
    "    mask = cv2.imread(f\"{training_masks}/{e}\",0)\n",
    "    mask[mask==255]=1\n",
    "    cv2.imwrite(f\"{augmented_images}/00_{e}\", image)\n",
    "    cv2.imwrite(f\"{augmented_masks}/00_{e}\", mask)\n",
    "    \n",
    "    transformed = transform_rotate90(image=image, mask=mask)\n",
    "    cv2.imwrite(f\"{augmented_images}/01_{e}\", transformed[\"image\"])\n",
    "    cv2.imwrite(f\"{augmented_masks}/01_{e}\", transformed[\"mask\"])\n",
    "    \n",
    "    transformed = transform_crop(image=image, mask=mask)\n",
    "    cv2.imwrite(f\"{augmented_images}/02_{e}\", transformed[\"image\"])\n",
    "    cv2.imwrite(f\"{augmented_masks}/02_{e}\", transformed[\"mask\"])\n",
    "    \n",
    "    transformed = transform_all(image=image, mask=mask)\n",
    "    cv2.imwrite(f\"{augmented_images}/03_{e}\", transformed[\"image\"])\n",
    "    cv2.imwrite(f\"{augmented_masks}/03_{e}\", transformed[\"mask\"])"
   ]
  },
  {
   "cell_type": "code",
   "execution_count": 6,
   "metadata": {},
   "outputs": [],
   "source": [
    "for e in os.listdir(augmented_images):\n",
    "    image = cv2.imread(f\"{augmented_images}/{e}\",0)\n",
    "    mask = cv2.imread(f\"{augmented_masks}/{e}\",0)\n",
    "    \n",
    "    image = np.array(image, dtype=\"float32\")\n",
    "    image = interpolate_image(image, target_shape)\n",
    "    mask = mask.astype(\"uint8\")\n",
    "    mask = interpolate_image(mask, target_shape)\n",
    "    mask[mask==255]=1\n",
    "    np.savez_compressed(f\"{compressed}/{e}\",\n",
    "                            image=image,\n",
    "                            mask=mask)"
   ]
  },
  {
   "cell_type": "code",
   "execution_count": null,
   "metadata": {},
   "outputs": [],
   "source": []
  }
 ],
 "metadata": {
  "kernelspec": {
   "display_name": "Python 3",
   "language": "python",
   "name": "python3"
  },
  "language_info": {
   "codemirror_mode": {
    "name": "ipython",
    "version": 3
   },
   "file_extension": ".py",
   "mimetype": "text/x-python",
   "name": "python",
   "nbconvert_exporter": "python",
   "pygments_lexer": "ipython3",
   "version": "3.7.6"
  }
 },
 "nbformat": 4,
 "nbformat_minor": 2
}
