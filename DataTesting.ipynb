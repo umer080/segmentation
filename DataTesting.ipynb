{
 "cells": [
  {
   "cell_type": "code",
   "execution_count": 1,
   "metadata": {},
   "outputs": [
    {
     "name": "stdout",
     "output_type": "stream",
     "text": [
      "Segmentation Models: using `keras` framework.\n"
     ]
    }
   ],
   "source": [
    "import segmentation_models as sm\n",
    "import tensorflow as tf\n",
    "from tensorflow import keras\n",
    "import numpy as np\n",
    "import os\n",
    "from skimage.transform import resize\n",
    "import matplotlib.pyplot as plt\n",
    "import cv2\n",
    "from utils import interpolate_image\n",
    "from config import *"
   ]
  },
  {
   "cell_type": "code",
   "execution_count": 2,
   "metadata": {},
   "outputs": [],
   "source": [
    "sm.set_framework('tf.keras')\n",
    "sm.framework()\n",
    "\n",
    "model = sm.Unet(BACKBONE, classes=n_classes, activation=activation,\n",
    "                input_shape=(input_images_size, input_images_size, 1),\n",
    "                encoder_weights=None)\n",
    "optim = tf.keras.optimizers.Adam(learning_rate)\n",
    "\n",
    "dice_loss = sm.losses.DiceLoss()\n",
    "focal_loss = sm.losses.BinaryFocalLoss()\n",
    "total_loss = dice_loss + (1 * focal_loss)\n",
    "\n",
    "metrics = [sm.metrics.IOUScore(threshold=0.5),\n",
    "           sm.metrics.FScore(threshold=0.5)]\n",
    "\n",
    "model.compile(optim, total_loss, metrics)"
   ]
  },
  {
   "cell_type": "code",
   "execution_count": 3,
   "metadata": {},
   "outputs": [],
   "source": [
    "model.load_weights(\"models/best_model.hdf5\")"
   ]
  },
  {
   "cell_type": "code",
   "execution_count": 4,
   "metadata": {},
   "outputs": [
    {
     "data": {
      "text/plain": [
       "'2.6.0'"
      ]
     },
     "execution_count": 4,
     "metadata": {},
     "output_type": "execute_result"
    }
   ],
   "source": [
    "tf.__version__\n"
   ]
  },
  {
   "cell_type": "code",
   "execution_count": 5,
   "metadata": {},
   "outputs": [],
   "source": [
    "test_path = \"DATA/test_data/images\"\n",
    "test_mask_path = \"DATA/test_data/masks\"\n",
    "test_images = os.listdir(test_path)"
   ]
  },
  {
   "cell_type": "code",
   "execution_count": 6,
   "metadata": {},
   "outputs": [
    {
     "name": "stderr",
     "output_type": "stream",
     "text": [
      "/home/hassanrehman/anaconda3/lib/python3.7/site-packages/pandas/compat/_optional.py:138: UserWarning: Pandas requires version '2.7.0' or newer of 'numexpr' (version '2.6.9' currently installed).\n",
      "  warnings.warn(msg, UserWarning)\n"
     ]
    }
   ],
   "source": [
    "data = []\n",
    "for e in test_images:\n",
    "    img = cv2.imread(f'{test_path}/{e}',0)\n",
    "    orig = img.copy()\n",
    "    orig = cv2.resize(orig,(input_images_size,input_images_size))\n",
    "    img = interpolate_image(img, target_shape)\n",
    "    img = np.array([img])\n",
    "    pred = model.predict(img)\n",
    "    pred = np.round(pred[0]).astype(\"uint8\")\n",
    "    img = cv2.imread(f'{test_mask_path}/{e}',0)\n",
    "    test = cv2.resize(img,(input_images_size,input_images_size))\n",
    "    _,test = cv2.threshold(test, 127, 255, cv2.THRESH_BINARY)\n",
    "  \n",
    "    test[test==255]=1\n",
    "    m = tf.keras.metrics.MeanIoU(num_classes=2)\n",
    "    m.update_state(list(test.reshape(1,input_images_size*input_images_size)[0]),list(pred[:, :, 0].reshape(1,input_images_size*input_images_size)[0]))\n",
    "    data.append(m.result().numpy())\n",
    "    temp = pred[:, :, 0]\n",
    "    temp[temp==1]=255\n",
    "    test[test==1]=255\n",
    "    stacked = np.hstack((orig,test,temp))\n",
    "    cv2.imwrite(f'results/{e}',stacked)\n",
    "    "
   ]
  },
  {
   "cell_type": "code",
   "execution_count": 15,
   "metadata": {},
   "outputs": [
    {
     "name": "stdout",
     "output_type": "stream",
     "text": [
      "Testing IOU Score of images:89%\n"
     ]
    }
   ],
   "source": [
    "a = np.array(data)\n",
    "print(f\"Testing IOU Score of images:{round(np.mean(a)*100)}%\")"
   ]
  },
  {
   "cell_type": "code",
   "execution_count": null,
   "metadata": {},
   "outputs": [],
   "source": []
  },
  {
   "cell_type": "code",
   "execution_count": null,
   "metadata": {},
   "outputs": [],
   "source": []
  }
 ],
 "metadata": {
  "kernelspec": {
   "display_name": "Python 3",
   "language": "python",
   "name": "python3"
  },
  "language_info": {
   "codemirror_mode": {
    "name": "ipython",
    "version": 3
   },
   "file_extension": ".py",
   "mimetype": "text/x-python",
   "name": "python",
   "nbconvert_exporter": "python",
   "pygments_lexer": "ipython3",
   "version": "3.7.6"
  }
 },
 "nbformat": 4,
 "nbformat_minor": 2
}
